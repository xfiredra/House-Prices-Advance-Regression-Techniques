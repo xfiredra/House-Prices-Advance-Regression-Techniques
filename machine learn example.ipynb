{
 "cells": [
  {
   "cell_type": "markdown",
   "metadata": {},
   "source": [
    "My first python machine learning code"
   ]
  },
  {
   "cell_type": "code",
   "execution_count": 1,
   "metadata": {},
   "outputs": [
    {
     "name": "stderr",
     "output_type": "stream",
     "text": [
      "/Users/apple/anaconda3/lib/python3.6/site-packages/matplotlib/__init__.py:1085: UserWarning: Duplicate key in file \"/Users/apple/anaconda3/lib/python3.6/site-packages/matplotlib/mpl-data/matplotlibrc\", line #197\n",
      "  (fname, cnt))\n"
     ]
    },
    {
     "name": "stdout",
     "output_type": "stream",
     "text": [
      "coef_:\n",
      "[[ 5.50969428e-01  8.83205963e+02  1.16779371e+02  8.39997771e+01\n",
      "  -5.01960572e+02 -1.82212503e+04  4.87607557e+03]]\n",
      "R square:\n",
      "0.7053524565468028\n",
      "   LotArea  YearBuilt  1stFlrSF  2ndFlrSF  FullBath  BedroomAbvGr  \\\n",
      "0    11622       1961       896         0         1             2   \n",
      "1    14267       1958      1329         0         1             3   \n",
      "2    13830       1997       928       701         2             3   \n",
      "3     9978       1998       926       678         2             3   \n",
      "4     5005       1992      1280         0         2             2   \n",
      "\n",
      "   TotRmsAbvGrd  \n",
      "0             5  \n",
      "1             6  \n",
      "2             6  \n",
      "3             7  \n",
      "4             5  \n",
      "The predictions: \n",
      "[[120848.01748845]\n",
      " [156876.0066946 ]\n",
      " [202633.62101218]\n",
      " [204105.01469524]\n",
      " [188922.95555835]]\n"
     ]
    },
    {
     "name": "stderr",
     "output_type": "stream",
     "text": [
      "/Users/apple/anaconda3/lib/python3.6/site-packages/scipy/linalg/basic.py:1226: RuntimeWarning: internal gelsd driver lwork query error, required iwork dimension not returned. This is likely the result of LAPACK bug 0038, fixed in LAPACK 3.2.2 (released July 21, 2010). Falling back to 'gelss' driver.\n",
      "  warnings.warn(mesg, RuntimeWarning)\n"
     ]
    }
   ],
   "source": [
    "import pandas as pd\n",
    "\n",
    "import matplotlib.pyplot as plt\n",
    "\n",
    "Housing_data = pd.read_csv('input/train.csv')\n",
    "\n",
    "X_val = ['LotArea','YearBuilt','1stFlrSF','2ndFlrSF','FullBath','BedroomAbvGr','TotRmsAbvGrd']\n",
    "X = Housing_data[X_val]\n",
    "Y = Housing_data[['SalePrice']]\n",
    "\n",
    "# linear regression\n",
    "from sklearn import linear_model\n",
    "model = linear_model.LinearRegression()\n",
    "model.fit(X,Y)\n",
    "\n",
    "# coefficients\n",
    "print(\"coef_:\")\n",
    "print(model.coef_)\n",
    "\n",
    "# R square\n",
    "print(\"R square:\")\n",
    "print(model.score(X,Y))\n",
    "\n",
    "# predict\n",
    "test_data = pd.read_csv('input/test.csv')\n",
    "test_X = test_data[X_val]\n",
    "\n",
    "print(test_X.head(5))\n",
    "\n",
    "print(\"The predictions: \")\n",
    "print(model.predict(test_X.head(5)))"
   ]
  },
  {
   "cell_type": "code",
   "execution_count": 2,
   "metadata": {},
   "outputs": [
    {
     "name": "stdout",
     "output_type": "stream",
     "text": [
      "[[120848.01748845]\n",
      " [156876.0066946 ]\n",
      " [202633.62101218]\n",
      " ...\n",
      " [136194.11768111]\n",
      " [142873.20620377]\n",
      " [244806.2290663 ]]\n"
     ]
    }
   ],
   "source": [
    "import numpy as np\n",
    "prediction = model.predict(test_X)\n",
    "print(prediction)\n",
    "#np.savetxt('out.csv', (test_data['Id'], prediction),delimiter=',', fmt= \"%.2f\")\n",
    "np.savetxt('out.csv', prediction, delimiter=',', fmt=\"%.2f\")"
   ]
  },
  {
   "cell_type": "code",
   "execution_count": null,
   "metadata": {
    "collapsed": true
   },
   "outputs": [],
   "source": []
  }
 ],
 "metadata": {
  "kernelspec": {
   "display_name": "Python 3",
   "language": "python",
   "name": "python3"
  },
  "language_info": {
   "codemirror_mode": {
    "name": "ipython",
    "version": 3
   },
   "file_extension": ".py",
   "mimetype": "text/x-python",
   "name": "python",
   "nbconvert_exporter": "python",
   "pygments_lexer": "ipython3",
   "version": "3.6.2"
  }
 },
 "nbformat": 4,
 "nbformat_minor": 2
}
