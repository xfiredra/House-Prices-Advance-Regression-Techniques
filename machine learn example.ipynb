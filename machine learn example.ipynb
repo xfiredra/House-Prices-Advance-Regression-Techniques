{
 "cells": [
  {
   "cell_type": "code",
   "execution_count": 24,
   "metadata": {
    "scrolled": true
   },
   "outputs": [
    {
     "name": "stdout",
     "output_type": "stream",
     "text": [
      "Making predictions for the following 5 houses:\n",
      "   LotArea  YearBuilt  1stFlrSF  2ndFlrSF  FullBath  BedroomAbvGr  \\\n",
      "0    11622       1961       896         0         1             2   \n",
      "1    14267       1958      1329         0         1             3   \n",
      "2    13830       1997       928       701         2             3   \n",
      "3     9978       1998       926       678         2             3   \n",
      "4     5005       1992      1280         0         2             2   \n",
      "\n",
      "   TotRmsAbvGrd  \n",
      "0             5  \n",
      "1             6  \n",
      "2             6  \n",
      "3             7  \n",
      "4             5  \n",
      "The predictions are\n",
      "[  94750.  137500.  173000.  181000.  189000.]\n"
     ]
    }
   ],
   "source": [
    "import pandas as pd\n",
    "import numpy as np\n",
    "import matplotlib.pyplot as plt\n",
    "\n",
    "Housing_data = pd.read_csv('input/train.csv')\n",
    "\n",
    "#X = Housing_data[['1stFlrSF']]\n",
    "X = Housing_data[['LotArea','YearBuilt','1stFlrSF','2ndFlrSF','FullBath','BedroomAbvGr','TotRmsAbvGrd']]\n",
    "Y = Housing_data[['SalePrice']]\n",
    "\n",
    "\n",
    "from sklearn.tree import DecisionTreeRegressor\n",
    "melbourne_model = DecisionTreeRegressor()\n",
    "melbourne_model.fit(X,Y)\n",
    "\n",
    "# 預測\n",
    "test_data = pd.read_csv('input/test.csv')\n",
    "test_X = test_data[['LotArea','YearBuilt','1stFlrSF','2ndFlrSF','FullBath','BedroomAbvGr','TotRmsAbvGrd']]\n",
    "\n",
    "print(\"Making predictions for the following 5 houses:\")\n",
    "print(test_X.head(5))\n",
    "print(\"The predictions are\")\n",
    "print(melbourne_model.predict(test_X.head(5)))"
   ]
  }
 ],
 "metadata": {
  "kernelspec": {
   "display_name": "Python 3",
   "language": "python",
   "name": "python3"
  },
  "language_info": {
   "codemirror_mode": {
    "name": "ipython",
    "version": 3
   },
   "file_extension": ".py",
   "mimetype": "text/x-python",
   "name": "python",
   "nbconvert_exporter": "python",
   "pygments_lexer": "ipython3",
   "version": "3.6.2"
  }
 },
 "nbformat": 4,
 "nbformat_minor": 2
}
